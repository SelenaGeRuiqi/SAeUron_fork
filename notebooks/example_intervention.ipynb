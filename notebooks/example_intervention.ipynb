{
 "cells": [
  {
   "cell_type": "markdown",
   "metadata": {},
   "source": [
    "# Simple example of how to use the SAE to intervene on a diffusion model"
   ]
  },
  {
   "cell_type": "code",
   "execution_count": 14,
   "metadata": {},
   "outputs": [],
   "source": [
    "import torch\n",
    "from SAE.sae import Sae\n",
    "from SAE.hooked_sd_noised_pipeline import HookedStableDiffusionPipeline\n",
    "import utils.hooks as hooks"
   ]
  },
  {
   "cell_type": "code",
   "execution_count": 10,
   "metadata": {},
   "outputs": [],
   "source": [
    "model_name = \"CompVis/stable-diffusion-v1-4\"\n",
    "dtype = torch.float16\n",
    "device = \"cuda\" if torch.cuda.is_available() else \"cpu\"\n",
    "hub_name = \"bcywinski/SAeUron_coco\"\n",
    "hookpoint = \"unet.up_blocks.1.attentions.1\""
   ]
  },
  {
   "cell_type": "markdown",
   "metadata": {},
   "source": [
    "## Load models"
   ]
  },
  {
   "cell_type": "code",
   "execution_count": null,
   "metadata": {},
   "outputs": [],
   "source": [
    "model = HookedStableDiffusionPipeline.from_pretrained(\n",
    "    model_name,\n",
    "    torch_dtype=dtype,\n",
    "    safety_checker=None,\n",
    ").to(device)\n"
   ]
  },
  {
   "cell_type": "code",
   "execution_count": null,
   "metadata": {},
   "outputs": [],
   "source": [
    "sae = Sae.load_from_hub(hub_name, hookpoint=hookpoint, device=device).to(dtype)\n"
   ]
  },
  {
   "cell_type": "markdown",
   "metadata": {},
   "source": [
    "## Create intervention hook"
   ]
  },
  {
   "cell_type": "code",
   "execution_count": 79,
   "metadata": {},
   "outputs": [],
   "source": [
    "feature_idx = 11627\n",
    "multiplier = -1.0"
   ]
  },
  {
   "cell_type": "code",
   "execution_count": 80,
   "metadata": {},
   "outputs": [],
   "source": [
    "intervention_hook = hooks.SAEFeatureInterventionHook(\n",
    "    sae=sae,\n",
    "    feature_idx=feature_idx,\n",
    "    multiplier=multiplier,\n",
    ")"
   ]
  },
  {
   "cell_type": "markdown",
   "metadata": {},
   "source": [
    "## Run intervention\n",
    "Run intervention multiplying the selected feature on each denoising step"
   ]
  },
  {
   "cell_type": "code",
   "execution_count": 81,
   "metadata": {},
   "outputs": [],
   "source": [
    "prompt = \"A photo of a cat\"\n",
    "steps = 50\n",
    "guidance_scale = 7.5\n",
    "seed = 0"
   ]
  },
  {
   "cell_type": "code",
   "execution_count": 82,
   "metadata": {},
   "outputs": [],
   "source": [
    "images = model.run_with_hooks(\n",
    "    prompt=prompt,\n",
    "    generator=torch.Generator(device=device).manual_seed(seed),\n",
    "    num_inference_steps=steps,\n",
    "    guidance_scale=guidance_scale,\n",
    "    position_hook_dict={hookpoint: intervention_hook},\n",
    ")"
   ]
  },
  {
   "cell_type": "code",
   "execution_count": null,
   "metadata": {},
   "outputs": [],
   "source": [
    "images[0]"
   ]
  }
 ],
 "metadata": {
  "kernelspec": {
   "display_name": "Python 3 (ipykernel)",
   "language": "python",
   "name": "python3"
  },
  "language_info": {
   "codemirror_mode": {
    "name": "ipython",
    "version": 3
   },
   "file_extension": ".py",
   "mimetype": "text/x-python",
   "name": "python",
   "nbconvert_exporter": "python",
   "pygments_lexer": "ipython3",
   "version": "3.10.15"
  }
 },
 "nbformat": 4,
 "nbformat_minor": 2
}
